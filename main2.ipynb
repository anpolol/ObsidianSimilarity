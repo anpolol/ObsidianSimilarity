{
 "cells": [
  {
   "cell_type": "code",
   "execution_count": 1,
   "id": "initial_id",
   "metadata": {
    "collapsed": true,
    "ExecuteTime": {
     "end_time": "2024-03-18T10:38:57.578174100Z",
     "start_time": "2024-03-18T10:38:43.042105200Z"
    }
   },
   "outputs": [],
   "source": [
    "import os\n",
    "\n",
    "import glob\n",
    "import torch\n",
    "from uuid import uuid4\n",
    "from huggingface_hub.file_download import http_get\n",
    "from langchain_community.document_loaders import UnstructuredMarkdownLoader\n",
    "#from langchain.text_splitter import RecursiveCharacterTextSplitter\n",
    "from langchain_community.docstore.document import Document\n",
    "from sentence_transformers import SentenceTransformer\n",
    "from sentence_transformers.util import cos_sim\n",
    "\n",
    "\n",
    "SYSTEM_PROMPT = \"Ты — очень умный ассистент-аналитик с системным мышлением. Виртуозно находишь связи в самых разных мыслях и идеях, используешь нестандартные подходы. Вот пример твоей задачи: Заметка 1: Сельское хозяйство сталкивается с серьёзными вызовами в связи с изменением климата. Участившиеся засухи, наводнения и вспышки вредителей непосредственно влияют на урожайность и производство продовольствия. Изменение климата приводит к тому, что традиционные агроклиматические зоны смещаются, заставляя фермеров адаптироваться к новым условиям, возможно, даже менять культуры, которые они выращивают. Эти изменения требуют значительных усилий и ресурсов для модернизации сельскохозяйственных технологий и практик, включая улучшенное управление водными ресурсами и внедрение устойчивых к изменению климата сортов растений. Заметка 2: Искусственный интеллект (ИИ) революционизирует медицину, предлагая новые способы диагностики и лечения заболеваний. Системы ИИ способны анализировать большие объёмы медицинских данных быстрее и точнее, чем это могут сделать врачи, что способствует более раннему выявлению заболеваний и повышению эффективности лечения. ИИ используется для анализа рентгеновских снимков, МРТ, для предсказания риска развития определённых состояний и даже для создания индивидуализированных планов лечения. Внедрение ИИ в медицине обещает сократить нагрузку на медицинский персонал, уменьшить ошибки и улучшить качество ухода за пациентами.. Сходство: Обе заметки подчёркивают необходимость адаптации и применения новых технологий для решения возникающих проблем: в сельском хозяйстве — это адаптация к изменению климата с помощью новых сортов растений и управления водными ресурсами, в медицине — использование искусственного интеллекта для улучшения диагностики и лечения. Таким образом, обе заметки иллюстрируют, как наука и технологии играют ключевую роль в адаптации и преобразовании отраслей для справления с вызовами современного мира. Заметка 1: \"\n",
    "\n",
    "LOADER_MAPPING = {\n",
    "    \".md\": (UnstructuredMarkdownLoader, {})\n",
    "}"
   ]
  },
  {
   "cell_type": "code",
   "outputs": [],
   "source": [
    "EMBEDDER = SentenceTransformer(\"intfloat/multilingual-e5-small\")"
   ],
   "metadata": {
    "collapsed": false,
    "ExecuteTime": {
     "end_time": "2024-03-18T10:39:01.017318900Z",
     "start_time": "2024-03-18T10:38:57.577104Z"
    }
   },
   "id": "7cbfd60c788db652",
   "execution_count": 2
  },
  {
   "cell_type": "code",
   "outputs": [
    {
     "name": "stderr",
     "output_type": "stream",
     "text": [
      "llama_model_loader: loaded meta data with 20 key-value pairs and 291 tensors from C:/Users/user/Desktop/llm_models/mistral-7b-openorca.Q3_K_M.gguf (version GGUF V2)\n",
      "llama_model_loader: Dumping metadata keys/values. Note: KV overrides do not apply in this output.\n",
      "llama_model_loader: - kv   0:                       general.architecture str              = llama\n",
      "llama_model_loader: - kv   1:                               general.name str              = open-orca_mistral-7b-openorca\n",
      "llama_model_loader: - kv   2:                       llama.context_length u32              = 32768\n",
      "llama_model_loader: - kv   3:                     llama.embedding_length u32              = 4096\n",
      "llama_model_loader: - kv   4:                          llama.block_count u32              = 32\n",
      "llama_model_loader: - kv   5:                  llama.feed_forward_length u32              = 14336\n",
      "llama_model_loader: - kv   6:                 llama.rope.dimension_count u32              = 128\n",
      "llama_model_loader: - kv   7:                 llama.attention.head_count u32              = 32\n",
      "llama_model_loader: - kv   8:              llama.attention.head_count_kv u32              = 8\n",
      "llama_model_loader: - kv   9:     llama.attention.layer_norm_rms_epsilon f32              = 0.000010\n",
      "llama_model_loader: - kv  10:                       llama.rope.freq_base f32              = 10000.000000\n",
      "llama_model_loader: - kv  11:                          general.file_type u32              = 12\n",
      "llama_model_loader: - kv  12:                       tokenizer.ggml.model str              = llama\n",
      "llama_model_loader: - kv  13:                      tokenizer.ggml.tokens arr[str,32002]   = [\"<unk>\", \"<s>\", \"</s>\", \"<0x00>\", \"<...\n",
      "llama_model_loader: - kv  14:                      tokenizer.ggml.scores arr[f32,32002]   = [0.000000, 0.000000, 0.000000, 0.0000...\n",
      "llama_model_loader: - kv  15:                  tokenizer.ggml.token_type arr[i32,32002]   = [2, 3, 3, 6, 6, 6, 6, 6, 6, 6, 6, 6, ...\n",
      "llama_model_loader: - kv  16:                tokenizer.ggml.bos_token_id u32              = 1\n",
      "llama_model_loader: - kv  17:                tokenizer.ggml.eos_token_id u32              = 32000\n",
      "llama_model_loader: - kv  18:            tokenizer.ggml.unknown_token_id u32              = 0\n",
      "llama_model_loader: - kv  19:               general.quantization_version u32              = 2\n",
      "llama_model_loader: - type  f32:   65 tensors\n",
      "llama_model_loader: - type q3_K:  129 tensors\n",
      "llama_model_loader: - type q4_K:   92 tensors\n",
      "llama_model_loader: - type q5_K:    4 tensors\n",
      "llama_model_loader: - type q6_K:    1 tensors\n",
      "llm_load_vocab: special tokens definition check successful ( 261/32002 ).\n",
      "llm_load_print_meta: format           = GGUF V2\n",
      "llm_load_print_meta: arch             = llama\n",
      "llm_load_print_meta: vocab type       = SPM\n",
      "llm_load_print_meta: n_vocab          = 32002\n",
      "llm_load_print_meta: n_merges         = 0\n",
      "llm_load_print_meta: n_ctx_train      = 32768\n",
      "llm_load_print_meta: n_embd           = 4096\n",
      "llm_load_print_meta: n_head           = 32\n",
      "llm_load_print_meta: n_head_kv        = 8\n",
      "llm_load_print_meta: n_layer          = 32\n",
      "llm_load_print_meta: n_rot            = 128\n",
      "llm_load_print_meta: n_embd_head_k    = 128\n",
      "llm_load_print_meta: n_embd_head_v    = 128\n",
      "llm_load_print_meta: n_gqa            = 4\n",
      "llm_load_print_meta: n_embd_k_gqa     = 1024\n",
      "llm_load_print_meta: n_embd_v_gqa     = 1024\n",
      "llm_load_print_meta: f_norm_eps       = 0.0e+00\n",
      "llm_load_print_meta: f_norm_rms_eps   = 1.0e-05\n",
      "llm_load_print_meta: f_clamp_kqv      = 0.0e+00\n",
      "llm_load_print_meta: f_max_alibi_bias = 0.0e+00\n",
      "llm_load_print_meta: n_ff             = 14336\n",
      "llm_load_print_meta: n_expert         = 0\n",
      "llm_load_print_meta: n_expert_used    = 0\n",
      "llm_load_print_meta: pooling type     = 0\n",
      "llm_load_print_meta: rope type        = 0\n",
      "llm_load_print_meta: rope scaling     = linear\n",
      "llm_load_print_meta: freq_base_train  = 10000.0\n",
      "llm_load_print_meta: freq_scale_train = 1\n",
      "llm_load_print_meta: n_yarn_orig_ctx  = 32768\n",
      "llm_load_print_meta: rope_finetuned   = unknown\n",
      "llm_load_print_meta: ssm_d_conv       = 0\n",
      "llm_load_print_meta: ssm_d_inner      = 0\n",
      "llm_load_print_meta: ssm_d_state      = 0\n",
      "llm_load_print_meta: ssm_dt_rank      = 0\n",
      "llm_load_print_meta: model type       = 7B\n",
      "llm_load_print_meta: model ftype      = Q3_K - Medium\n",
      "llm_load_print_meta: model params     = 7.24 B\n",
      "llm_load_print_meta: model size       = 3.28 GiB (3.89 BPW) \n",
      "llm_load_print_meta: general.name     = open-orca_mistral-7b-openorca\n",
      "llm_load_print_meta: BOS token        = 1 '<s>'\n",
      "llm_load_print_meta: EOS token        = 32000 '<dummy32000>'\n",
      "llm_load_print_meta: UNK token        = 0 '<unk>'\n",
      "llm_load_print_meta: LF token         = 13 '<0x0A>'\n",
      "llm_load_tensors: ggml ctx size =    0.11 MiB\n",
      "llm_load_tensors:        CPU buffer size =  3355.28 MiB\n",
      ".................................................................................................\n",
      "llama_new_context_with_model: n_ctx      = 5500\n",
      "llama_new_context_with_model: freq_base  = 10000.0\n",
      "llama_new_context_with_model: freq_scale = 1\n",
      "llama_kv_cache_init:        CPU KV buffer size =   687.50 MiB\n",
      "llama_new_context_with_model: KV self size  =  687.50 MiB, K (f16):  343.75 MiB, V (f16):  343.75 MiB\n",
      "llama_new_context_with_model:        CPU input buffer size   =     0.34 MiB\n",
      "llama_new_context_with_model:        CPU compute buffer size =     5.87 MiB\n",
      "llama_new_context_with_model: graph splits (measure): 1\n",
      "AVX = 1 | AVX_VNNI = 0 | AVX2 = 1 | AVX512 = 0 | AVX512_VBMI = 0 | AVX512_VNNI = 0 | FMA = 1 | NEON = 0 | ARM_FMA = 0 | F16C = 1 | FP16_VA = 0 | WASM_SIMD = 0 | BLAS = 0 | SSE3 = 1 | SSSE3 = 0 | VSX = 0 | MATMUL_INT8 = 0 | \n",
      "Model metadata: {'general.name': 'open-orca_mistral-7b-openorca', 'general.architecture': 'llama', 'llama.context_length': '32768', 'llama.rope.dimension_count': '128', 'llama.embedding_length': '4096', 'llama.block_count': '32', 'llama.feed_forward_length': '14336', 'llama.attention.head_count': '32', 'tokenizer.ggml.eos_token_id': '32000', 'general.file_type': '12', 'llama.attention.head_count_kv': '8', 'llama.attention.layer_norm_rms_epsilon': '0.000010', 'llama.rope.freq_base': '10000.000000', 'tokenizer.ggml.model': 'llama', 'general.quantization_version': '2', 'tokenizer.ggml.bos_token_id': '1', 'tokenizer.ggml.unknown_token_id': '0'}\n",
      "Using fallback chat format: None\n"
     ]
    }
   ],
   "source": [
    "from langchain_community.llms import LlamaCpp\n",
    "#from langchain_community.callbacks.manager import call\n",
    "#from langchain_community.callbacks.streaming_stdout import StreamingStdOutCallbackHandler\n",
    "\n",
    "# Callbacks support token-wise streaming\n",
    "#callback_manager = CallbackManager([StreamingStdOutCallbackHandler()])\n",
    "MODEL = LlamaCpp(\n",
    "    model_path=\"C:/Users/user/Desktop/llm_models/mistral-7b-openorca.Q3_K_M.gguf\",\n",
    "    top_p=1,\n",
    "    n_ctx = 5500,\n",
    " #   callback_manager=callback_manager,\n",
    "    verbose=True  # Verbose is required to pass to the callback manager\n",
    ")"
   ],
   "metadata": {
    "collapsed": false,
    "ExecuteTime": {
     "end_time": "2024-03-18T10:39:17.100612800Z",
     "start_time": "2024-03-18T10:39:16.334678Z"
    }
   },
   "id": "345229e99b93b4fe",
   "execution_count": 3
  },
  {
   "cell_type": "code",
   "outputs": [],
   "source": [
    "def get_uuid():\n",
    "    return str(uuid4())\n",
    "\n",
    "def load_single_document(file_path: str) -> Document:\n",
    "    ext = \".\" + file_path.rsplit(\".\", 1)[-1]\n",
    "    assert ext in LOADER_MAPPING\n",
    "    loader_class, loader_args = LOADER_MAPPING[ext]\n",
    "    loader = loader_class(file_path, **loader_args)\n",
    "    doc_output = loader.load()[0]\n",
    "   # setattr(doc_output, 'file_name', file_path.rsplit(\".\", 1)[0].split(\"/\")[-1].split(\"\\\\\")[-1])\n",
    "    return doc_output\n",
    "\n",
    "def process_text(text):\n",
    "    lines = text.split(\"\\n\")\n",
    "    lines = [line for line in lines if len(line.strip()) > 2]\n",
    "    text = \"\\n\".join(lines).strip()\n",
    "    if len(text) < 10:\n",
    "        return None\n",
    "    return text\n",
    "\n",
    "def upload_files(files, file_paths):\n",
    "    file_paths = [f.name for f in files]\n",
    "    return file_paths\n",
    "\n",
    "def build_index(file_paths, db= None, chunk_size= None, chunk_overlap= None, file_warning=None):\n",
    "    documents = [load_single_document(path) for path in file_paths]\n",
    "   # text_splitter = RecursiveCharacterTextSplitter(chunk_size=chunk_size, chunk_overlap=chunk_overlap)\n",
    "    #documents = text_splitter.split_documents(documents)\n",
    "    #print(\"Documents after split:\", len(documents))\n",
    "    fixed_documents = []\n",
    "    for doc in documents:\n",
    "        doc.page_content = process_text(doc.page_content)\n",
    "        if not doc.page_content:\n",
    "            continue\n",
    "        fixed_documents.append(doc)\n",
    "    print(\"Documents after processing:\", len(fixed_documents))\n",
    "\n",
    "    texts = [doc.page_content for doc in fixed_documents]\n",
    "    names = [doc.metadata['source'].rsplit(\".\", 1)[0].split(\"/\")[-1].split(\"\\\\\")[-1] for doc in fixed_documents]\n",
    "    embeddings = EMBEDDER.encode(texts, convert_to_tensor=True)\n",
    "    db = {\"name_list\": names,\"docs\": texts, \"embeddings\": embeddings}\n",
    "    print(\"Embeddings calculated!\")\n",
    "    return db\n",
    "\n",
    "def find_md_files(folder_path):\n",
    "    files = []  # List to hold the paths of .md files\n",
    "\n",
    "    # Function to recursively search the directory\n",
    "    def search_directory(directory):\n",
    "        # List all files and directories in the current directory\n",
    "        for entry in os.listdir(directory):\n",
    "            full_path = os.path.join(directory, entry)\n",
    "            # Check if the current entry is a directory\n",
    "            if os.path.isdir(full_path):\n",
    "                search_directory(full_path)  # Recursively search this directory\n",
    "            elif full_path.endswith('.md'):\n",
    "                files.append(full_path)  # Add the .md file to the list\n",
    "\n",
    "    search_directory(folder_path)\n",
    "    return files\n"
   ],
   "metadata": {
    "collapsed": false,
    "ExecuteTime": {
     "end_time": "2024-03-18T10:39:19.701250800Z",
     "start_time": "2024-03-18T10:39:19.683248600Z"
    }
   },
   "id": "8e9ec13dcc2b18ff",
   "execution_count": 4
  },
  {
   "cell_type": "code",
   "outputs": [],
   "source": [
    "def retrieve(user_message, name, db, k_documents):\n",
    "    retrieved_docs = \"\"\n",
    "    if db:\n",
    "        query_embedding = EMBEDDER.encode(user_message, convert_to_tensor=True)\n",
    "        scores = cos_sim(query_embedding, db[\"embeddings\"])[0]\n",
    "        exclude_index = db['name_list'].index(name) if name in db['name_list'] else None\n",
    "        \n",
    "        # Если есть индекс для исключения, устанавливаем его значение сходства на минимум, чтобы исключить из topk\n",
    "        if exclude_index is not None:\n",
    "            scores[exclude_index] = scores.min() - 1  # Устанавливаем значение ниже минимального, чтобы исключить документ\n",
    "        \n",
    "        top_k_idx = torch.topk(scores, k=k_documents)[1]\n",
    "        top_k_documents = [db[\"docs\"][idx] for idx in top_k_idx]\n",
    "        top_k_documents_name = [db[\"name_list\"][idx] for idx in top_k_idx]\n",
    "        \n",
    "    return top_k_documents, top_k_documents_name\n",
    "\n",
    "def find_latest_md_file(start_path):\n",
    "    # Ищем все файлы с расширением .md в указанной папке и её подпапках\n",
    "    md_files = glob.glob(start_path + '/**/*.md', recursive=True)\n",
    "    \n",
    "    # Если файлы найдены, определяем последний измененный файл\n",
    "    if md_files:\n",
    "        latest_file = max(md_files, key=os.path.getmtime)\n",
    "        return latest_file\n",
    "    else:\n",
    "        return \"Файлы с расширением .md не найдены.\"\n",
    "    \n",
    "def find_file(filename, root_folder):\n",
    "    for root, dirs, files in os.walk(root_folder):\n",
    "        if filename+'.md' in files:\n",
    "            return os.path.join(root, filename+'.md')\n",
    "    return None"
   ],
   "metadata": {
    "collapsed": false,
    "ExecuteTime": {
     "end_time": "2024-03-18T10:39:20.268981200Z",
     "start_time": "2024-03-18T10:39:20.256386Z"
    }
   },
   "id": "84f23fe4d520bc87",
   "execution_count": 5
  },
  {
   "cell_type": "code",
   "outputs": [
    {
     "name": "stdout",
     "output_type": "stream",
     "text": [
      "Documents after processing: 26\n",
      "Embeddings calculated!\n"
     ]
    }
   ],
   "source": [
    "file_paths=find_md_files(\"C:/Users/user/PolinasMind\")\n",
    "db = build_index(file_paths)"
   ],
   "metadata": {
    "collapsed": false,
    "ExecuteTime": {
     "end_time": "2024-03-18T10:39:56.107600300Z",
     "start_time": "2024-03-18T10:39:26.538871300Z"
    }
   },
   "id": "455c6cdd12dc79d1",
   "execution_count": 6
  },
  {
   "cell_type": "code",
   "outputs": [
    {
     "name": "stdout",
     "output_type": "stream",
     "text": [
      "C:/Users/user/PolinasMind\\Resources\\ML\\Моделирование AGI с помощью физики.md\n",
      "NOTE TO COMPARE NAME Теория реляционных фреймов - саммари\n"
     ]
    }
   ],
   "source": [
    "input_message = input()\n",
    "\n",
    "if input_message=='last' or input_message=='l':\n",
    "    file_path = find_latest_md_file(\"C:/Users/user/PolinasMind\")\n",
    "elif input_message=='help':\n",
    "    print(\"напиши 'last' или 'l' и тогда я найду заметки, похожие на последнюю добавленную. А затем напишу чем именно они похожи. Или напиши название своей заметки, к которой хочешь найти похожие\")\n",
    "else: \n",
    "    file_path = find_file(input_message, \"C:/Users/user/PolinasMind\")\n",
    "\n",
    "print(file_path)\n",
    "if file_path:\n",
    "    document = load_single_document(file_path)\n",
    "    name = file_path.rsplit(\".\", 1)[0].split(\"/\")[-1].split(\"\\\\\")[-1]\n",
    "    user_message = process_text(document.page_content)\n",
    "    retrieved_documents, names_of_retrieved_docs = retrieve(user_message, name, db, 1)\n",
    "    \n",
    "    for i,note in enumerate(retrieved_documents):\n",
    "        print(\"NOTE TO COMPARE NAME\", names_of_retrieved_docs[i])\n",
    "        output = MODEL.invoke(SYSTEM_PROMPT+str(user_message)+\" Заметка 2: \"+note+\" Сходство: \")\n",
    "        print(\"THEIR SIMILARITY IN\", output)\n",
    "else:\n",
    "    print('I cant understant what do you want')\n",
    "        "
   ],
   "metadata": {
    "collapsed": false,
    "is_executing": true,
    "ExecuteTime": {
     "start_time": "2024-03-18T10:39:56.106596300Z"
    }
   },
   "id": "575748cc93f4b2d4",
   "execution_count": null
  }
 ],
 "metadata": {
  "kernelspec": {
   "display_name": "Python 3",
   "language": "python",
   "name": "python3"
  },
  "language_info": {
   "codemirror_mode": {
    "name": "ipython",
    "version": 2
   },
   "file_extension": ".py",
   "mimetype": "text/x-python",
   "name": "python",
   "nbconvert_exporter": "python",
   "pygments_lexer": "ipython2",
   "version": "2.7.6"
  }
 },
 "nbformat": 4,
 "nbformat_minor": 5
}
